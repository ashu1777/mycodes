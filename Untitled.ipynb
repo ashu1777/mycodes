{
 "cells": [
  {
   "cell_type": "code",
   "execution_count": 30,
   "id": "359b4e74",
   "metadata": {},
   "outputs": [
    {
     "name": "stdout",
     "output_type": "stream",
     "text": [
      "{'service': {'serviceArn': 'arn:aws:ecs:us-east-1:621482425015:service/my_cluster/test-2', 'serviceName': 'test-2', 'clusterArn': 'arn:aws:ecs:us-east-1:621482425015:cluster/my_cluster', 'loadBalancers': [], 'serviceRegistries': [], 'status': 'ACTIVE', 'desiredCount': 1, 'runningCount': 0, 'pendingCount': 0, 'launchType': 'FARGATE', 'platformVersion': 'LATEST', 'taskDefinition': 'arn:aws:ecs:us-east-1:621482425015:task-definition/nginx:18', 'deploymentConfiguration': {'deploymentCircuitBreaker': {'enable': False, 'rollback': False}, 'maximumPercent': 200, 'minimumHealthyPercent': 100}, 'deployments': [{'id': 'ecs-svc/5840958597400279651', 'status': 'PRIMARY', 'taskDefinition': 'arn:aws:ecs:us-east-1:621482425015:task-definition/nginx:18', 'desiredCount': 1, 'pendingCount': 0, 'runningCount': 0, 'failedTasks': 0, 'createdAt': datetime.datetime(2022, 1, 2, 23, 55, 3, 621000, tzinfo=tzlocal()), 'updatedAt': datetime.datetime(2022, 1, 2, 23, 55, 3, 621000, tzinfo=tzlocal()), 'launchType': 'FARGATE', 'platformVersion': '1.4.0', 'networkConfiguration': {'awsvpcConfiguration': {'subnets': ['subnet-0fe0e07d4bdde1820', 'subnet-034e06c585045c7d1'], 'securityGroups': [], 'assignPublicIp': 'ENABLED'}}, 'rolloutState': 'IN_PROGRESS', 'rolloutStateReason': 'ECS deployment ecs-svc/5840958597400279651 in progress.'}], 'roleArn': 'arn:aws:iam::621482425015:role/aws-service-role/ecs.amazonaws.com/AWSServiceRoleForECS', 'events': [], 'createdAt': datetime.datetime(2022, 1, 2, 23, 55, 3, 621000, tzinfo=tzlocal()), 'placementConstraints': [], 'placementStrategy': [], 'networkConfiguration': {'awsvpcConfiguration': {'subnets': ['subnet-0fe0e07d4bdde1820', 'subnet-034e06c585045c7d1'], 'securityGroups': [], 'assignPublicIp': 'ENABLED'}}, 'schedulingStrategy': 'REPLICA', 'createdBy': 'arn:aws:iam::621482425015:user/cloud_user', 'enableECSManagedTags': False, 'propagateTags': 'NONE', 'enableExecuteCommand': False}, 'ResponseMetadata': {'RequestId': '3236c0e3-e4f4-4f05-a006-d69c03b4bea6', 'HTTPStatusCode': 200, 'HTTPHeaders': {'x-amzn-requestid': '3236c0e3-e4f4-4f05-a006-d69c03b4bea6', 'content-type': 'application/x-amz-json-1.1', 'content-length': '1783', 'date': 'Sun, 02 Jan 2022 18:25:03 GMT'}, 'RetryAttempts': 0}}\n"
     ]
    }
   ],
   "source": [
    "import boto3\n",
    "\n",
    "client = boto3.client('ecs')\n",
    "response = client.create_cluster(\n",
    "    clusterName='my_cluster',\n",
    ")\n",
    "task_def=client.register_task_definition(\n",
    "networkMode = 'awsvpc',\n",
    "requiresCompatibilities=[\n",
    "        'FARGATE',\n",
    "    ],\n",
    "    cpu='1 Vcpu',\n",
    "    memory='2 GB',\n",
    "containerDefinitions=[\n",
    "        {\n",
    "            \n",
    "            'name': 'nginx',\n",
    "            \n",
    "            'essential': True,\n",
    "            \n",
    "            'image': 'nginx',\n",
    "            'portMappings': [\n",
    "                {\n",
    "                    'containerPort': 80,\n",
    "                    'hostPort': 80,\n",
    "                    'protocol': 'tcp'\n",
    "                }],\n",
    "            'memory': 10,\n",
    "        },\n",
    "    ],\n",
    "    family='nginx',\n",
    " \n",
    " \n",
    ")\n",
    "\n",
    "service=client.create_service(\n",
    "    desiredCount=1,\n",
    "    serviceName='test-2',\n",
    "    launchType='FARGATE',\n",
    "    cluster='my_cluster',\n",
    "    networkConfiguration={\n",
    "        'awsvpcConfiguration': {\n",
    "            'subnets': [\n",
    "                'subnet-0fe0e07d4bdde1820','subnet-034e06c585045c7d1'\n",
    "            ],\n",
    "            'assignPublicIp': 'ENABLED'\n",
    "        }\n",
    "    },\n",
    "    taskDefinition='nginx',\n",
    ")\n",
    "print(service)"
   ]
  },
  {
   "cell_type": "code",
   "execution_count": 10,
   "id": "5e8ebc0e",
   "metadata": {},
   "outputs": [
    {
     "name": "stdout",
     "output_type": "stream",
     "text": [
      "['h', 'e', 'l', '_', 'o', 'w', 'o', '_', 'l', 'd']\n"
     ]
    }
   ],
   "source": [
    "x=\"helloworld\"\n",
    "y=list(x)\n",
    "for x in range(len(y)):\n",
    "    if (x+1)%4==0:\n",
    "        y[x]=\"_\"\n",
    "print(str(y))\n",
    "        "
   ]
  },
  {
   "cell_type": "code",
   "execution_count": null,
   "id": "028f9bec",
   "metadata": {},
   "outputs": [],
   "source": []
  },
  {
   "cell_type": "code",
   "execution_count": 18,
   "id": "7c33cc2e",
   "metadata": {},
   "outputs": [
    {
     "name": "stdout",
     "output_type": "stream",
     "text": [
      "[3, 9, 8]\n"
     ]
    }
   ],
   "source": [
    "x=398\n",
    "y=list(map(int,list(str(x))))\n",
    "print(y)"
   ]
  },
  {
   "cell_type": "code",
   "execution_count": 43,
   "id": "e61ef2da",
   "metadata": {},
   "outputs": [
    {
     "name": "stdout",
     "output_type": "stream",
     "text": [
      "153\n",
      "370\n",
      "371\n",
      "407\n"
     ]
    }
   ],
   "source": [
    "sum=0\n",
    "for i in range(100,999):\n",
    "    #y=list(map(int,list(str(i))))\n",
    "    if i == pow(i//100,3)+pow(i%10,3)+pow((i%100)//10,3): #pow(y[0],3)+pow(y[1],3)+pow(y[2],3):\n",
    "        print(i)"
   ]
  },
  {
   "cell_type": "code",
   "execution_count": 41,
   "id": "1458066b",
   "metadata": {},
   "outputs": [
    {
     "data": {
      "text/plain": [
       "371"
      ]
     },
     "execution_count": 41,
     "metadata": {},
     "output_type": "execute_result"
    }
   ],
   "source": [
    "i=371\n",
    "pow(i//100,3)+pow(i%10,3)+pow((i%100)//10,3)"
   ]
  },
  {
   "cell_type": "code",
   "execution_count": 37,
   "id": "16ac6832",
   "metadata": {},
   "outputs": [
    {
     "data": {
      "text/plain": [
       "0"
      ]
     },
     "execution_count": 37,
     "metadata": {},
     "output_type": "execute_result"
    }
   ],
   "source": [
    "(302%100)//10"
   ]
  },
  {
   "cell_type": "code",
   "execution_count": null,
   "id": "9b970adb",
   "metadata": {},
   "outputs": [],
   "source": []
  },
  {
   "cell_type": "code",
   "execution_count": null,
   "id": "867f0e39",
   "metadata": {},
   "outputs": [],
   "source": []
  },
  {
   "cell_type": "code",
   "execution_count": null,
   "id": "096ebd41",
   "metadata": {},
   "outputs": [],
   "source": []
  },
  {
   "cell_type": "code",
   "execution_count": null,
   "id": "86088998",
   "metadata": {},
   "outputs": [],
   "source": []
  }
 ],
 "metadata": {
  "kernelspec": {
   "display_name": "Python 3 (ipykernel)",
   "language": "python",
   "name": "python3"
  },
  "language_info": {
   "codemirror_mode": {
    "name": "ipython",
    "version": 3
   },
   "file_extension": ".py",
   "mimetype": "text/x-python",
   "name": "python",
   "nbconvert_exporter": "python",
   "pygments_lexer": "ipython3",
   "version": "3.9.7"
  }
 },
 "nbformat": 4,
 "nbformat_minor": 5
}
